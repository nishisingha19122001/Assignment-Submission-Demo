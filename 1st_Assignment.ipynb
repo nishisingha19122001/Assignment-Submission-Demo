{
  "nbformat": 4,
  "nbformat_minor": 0,
  "metadata": {
    "colab": {
      "name": "1st Assignment.ipynb",
      "provenance": [],
      "collapsed_sections": []
    },
    "kernelspec": {
      "name": "python3",
      "display_name": "Python 3"
    },
    "language_info": {
      "name": "python"
    }
  },
  "cells": [
    {
      "cell_type": "code",
      "metadata": {
        "id": "JQahrsYRpSSZ"
      },
      "source": [
        "#step 1 -> Enter the values\n",
        "#step 2 -> Operations\n",
        "#step 3 -> Print the o/p\n"
      ],
      "execution_count": null,
      "outputs": []
    },
    {
      "cell_type": "code",
      "metadata": {
        "colab": {
          "base_uri": "https://localhost:8080/"
        },
        "id": "MCqzo01Qpvxa",
        "outputId": "0beed524-de7f-416d-b790-9e62dd6a25a7"
      },
      "source": [
        "#step 1\n",
        "a=int(input(\"Enter the first value:\"))\n",
        "b=int(input(\"Enter the second value:\"))\n",
        "#step 2\n",
        "sum=a+b\n",
        "sub=a-b\n",
        "mul=a*b\n",
        "div1=a/b\n",
        "div2=b/a\n",
        "#step 3\n",
        "print(\"Sum:\",sum)\n",
        "print(\"Minus:\",sub)\n",
        "print(\"Into:\",mul)\n",
        "print(\"Divide(a>b):\",div1)\n",
        "print(\"Divide(b>a):\",div2)"
      ],
      "execution_count": null,
      "outputs": [
        {
          "output_type": "stream",
          "text": [
            "Enter the first value:1\n",
            "Enter the second value:4\n",
            "Sum: 5\n",
            "Minus: -3\n",
            "Into: 4\n",
            "Divide(a>b): 0.25\n",
            "Divide(b>a): 4.0\n"
          ],
          "name": "stdout"
        }
      ]
    }
  ]
}